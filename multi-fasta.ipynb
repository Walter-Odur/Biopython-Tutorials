{
 "cells": [
  {
   "cell_type": "markdown",
   "metadata": {},
   "source": [
    "### Find the Lengths and Names of Sequences in a Multi-Fasta Files\n",
    "#### Author:\n",
    "Walter Odur         \n",
    "<walterrickyodur2021@gmail.com>  \n",
    "<https://github.com/Walter-Odur>   \n",
    "<https://www.linkedin.com/in/walter-rickman-odur/>  \n",
    "<https://x.com/Walterrickman22>  \n",
    "#### Affiliation\n",
    "African Centers Of Excellence In Bioinformatics And Data Intensive Sciences (ACE-Uganda).  \n",
    "Infectious Diseases Institute (IDI),  \n",
    "Makerere University,  \n",
    "Kampala Uganda\n",
    "#### What you are expected to do/learn from this first tutorial\n",
    "1. You will use SeqIO sub-module from Module Bio to do the analysis\n",
    "2. You will then use pandas to represent results for multiple files in a DataFrame\n",
    "3. You will also learn how to use tabulate module to tabulate your DataFrame and make it more fancy\n",
    "4. Finally, you will learn how to export your DataFrame as a csv file"
   ]
  },
  {
   "cell_type": "code",
   "execution_count": 44,
   "metadata": {},
   "outputs": [],
   "source": [
    "# INSTALL THE FOLLOWING IF YOU DO NOT HAVE THEM INSTALLED\n",
    "\n",
    "#!pip install tabulate\n",
    "#!pip install biopython\n",
    "#!pip install pandas\n",
    "\n",
    "#Import the following\n",
    "from tabulate import tabulate\n",
    "import pandas as pd\n",
    "from Bio import SeqIO"
   ]
  },
  {
   "cell_type": "code",
   "execution_count": 66,
   "metadata": {},
   "outputs": [],
   "source": [
    "# Provide the path to the file (files.fasta)\n",
    "file = 'C:/Users/Walterrickman/Desktop/PYTHON/Kobina/files.fasta'"
   ]
  },
  {
   "cell_type": "code",
   "execution_count": 5,
   "metadata": {},
   "outputs": [],
   "source": [
    "# Read in/parse file\n",
    "seq_obj=[seq for seq in SeqIO.parse(file,'fasta')] # 'fasta' specifies the file type"
   ]
  },
  {
   "cell_type": "code",
   "execution_count": 7,
   "metadata": {},
   "outputs": [
    {
     "data": {
      "text/plain": [
       "5"
      ]
     },
     "execution_count": 7,
     "metadata": {},
     "output_type": "execute_result"
    }
   ],
   "source": [
    "# Check how many fasta files are present in files.fasta\n",
    "len(seq_obj)"
   ]
  },
  {
   "cell_type": "code",
   "execution_count": 67,
   "metadata": {},
   "outputs": [],
   "source": [
    "# Try to work with a single file before we proceed to the multiple files\n",
    "seq1=seq_obj[0]"
   ]
  },
  {
   "cell_type": "code",
   "execution_count": 10,
   "metadata": {},
   "outputs": [
    {
     "data": {
      "text/plain": [
       "'AR465'"
      ]
     },
     "execution_count": 10,
     "metadata": {},
     "output_type": "execute_result"
    }
   ],
   "source": [
    "# Check the name of the file\n",
    "seq1.name"
   ]
  },
  {
   "cell_type": "code",
   "execution_count": 11,
   "metadata": {},
   "outputs": [
    {
     "data": {
      "text/plain": [
       "Seq('GTCTATTCATTCCTTTTTCTCTCCTTTCAGCATTTTATTGAGCCTCTCATCAAC...TTA')"
      ]
     },
     "execution_count": 11,
     "metadata": {},
     "output_type": "execute_result"
    }
   ],
   "source": [
    "# Display the nucleotide sequence of the file\n",
    "seq1.seq"
   ]
  },
  {
   "cell_type": "code",
   "execution_count": 13,
   "metadata": {},
   "outputs": [
    {
     "data": {
      "text/plain": [
       "2911287"
      ]
     },
     "execution_count": 13,
     "metadata": {},
     "output_type": "execute_result"
    }
   ],
   "source": [
    "# Check the length of the sequence (how many nucleotides does the sequence contain)\n",
    "len(seq1.seq)# .seq make make the string object, a sequence object"
   ]
  },
  {
   "cell_type": "code",
   "execution_count": 14,
   "metadata": {},
   "outputs": [],
   "source": [
    "# You can also first create sequence object before starting the analysis\n",
    "sequence = seq1.seq "
   ]
  },
  {
   "cell_type": "code",
   "execution_count": 15,
   "metadata": {},
   "outputs": [
    {
     "data": {
      "text/plain": [
       "2911287"
      ]
     },
     "execution_count": 15,
     "metadata": {},
     "output_type": "execute_result"
    }
   ],
   "source": [
    "len(sequence)"
   ]
  },
  {
   "cell_type": "code",
   "execution_count": 18,
   "metadata": {},
   "outputs": [
    {
     "name": "stdout",
     "output_type": "stream",
     "text": [
      "['AR465', 'M48', 'P10', 'R50', 'V521']\n"
     ]
    }
   ],
   "source": [
    "#Now let's do this with Multiple sequences\n",
    "#Determine sequence names\n",
    "#    We will use a for loop to do this\n",
    "names=[] # create here the variable name to store results\n",
    "for item in seq_obj:\n",
    "    name=item.name\n",
    "    names.append(name)\n",
    "\n",
    "print(names) # print out the variable (names) to see results"
   ]
  },
  {
   "cell_type": "code",
   "execution_count": 23,
   "metadata": {},
   "outputs": [
    {
     "name": "stdout",
     "output_type": "stream",
     "text": [
      "[2911287, 3050015, 2970728, 2866643, 3085555]\n",
      "[2911287, 2970728, 3085555]\n"
     ]
    }
   ],
   "source": [
    "#Lets proceed to determing sequence lengths\n",
    "#approch 1\n",
    "lengths=[] \n",
    "for item in seq_obj:  #iterate through each item in seq_obj\n",
    "    sequence=item.seq\n",
    "    length=len(sequence) # determine the length of each sequence\n",
    "    lengths.append(length) # store results in pr-created variable (lengths)\n",
    "\n",
    "print(lengths)\n",
    "print(lengths[0::2]) # You can also play around with the new variable\n"
   ]
  },
  {
   "cell_type": "code",
   "execution_count": 26,
   "metadata": {},
   "outputs": [
    {
     "name": "stdout",
     "output_type": "stream",
     "text": [
      "[2911287, 3050015, 2970728, 2866643, 3085555]\n"
     ]
    }
   ],
   "source": [
    "#approch2\n",
    "lengths2=[len(item.seq) for item in seq_obj] # Do everything in just a single line\n",
    "print(lengths2)"
   ]
  },
  {
   "cell_type": "code",
   "execution_count": 36,
   "metadata": {},
   "outputs": [
    {
     "name": "stdout",
     "output_type": "stream",
     "text": [
      "the length of AR465 is 2911287\n",
      "the length of M48 is 3050015\n",
      "the length of P10 is 2970728\n",
      "the length of R50 is 2866643\n",
      "the length of V521 is 3085555\n"
     ]
    }
   ],
   "source": [
    "#You can also Assign length to sequence names\n",
    "for i in seq_obj:\n",
    "    print('the length of '+ str(i.name) +' is '+ str(len(i.seq)))"
   ]
  },
  {
   "cell_type": "code",
   "execution_count": 41,
   "metadata": {},
   "outputs": [
    {
     "name": "stdout",
     "output_type": "stream",
     "text": [
      "['AR465', 'M48', 'P10', 'R50', 'V521']\n",
      "[2911287, 3050015, 2970728, 2866643, 3085555]\n",
      "  sequenceNames  sequenceLength\n",
      "0         AR465         2911287\n",
      "1           M48         3050015\n",
      "2           P10         2970728\n",
      "3           R50         2866643\n",
      "4          V521         3085555\n"
     ]
    }
   ],
   "source": [
    "# That was a bit ugly, but you can place results in a DataFrame for better appearance\n",
    "\n",
    "# We shall use this variables (names and lengths) that we created previously\n",
    "print(names) # print to confirm their existence\n",
    "print(lengths)\n",
    "#create a dataframe using pandas, remember we exported 'pandas' as 'pd'\n",
    "df=pd.DataFrame()\n",
    "df['sequenceNames']=names\n",
    "df['sequenceLength']=lengths\n",
    "print(df)"
   ]
  },
  {
   "cell_type": "code",
   "execution_count": 45,
   "metadata": {},
   "outputs": [
    {
     "name": "stdout",
     "output_type": "stream",
     "text": [
      "+----+-----------------+------------------+\n",
      "|    | sequenceNames   |   sequenceLength |\n",
      "+====+=================+==================+\n",
      "|  0 | AR465           |          2911287 |\n",
      "+----+-----------------+------------------+\n",
      "|  1 | M48             |          3050015 |\n",
      "+----+-----------------+------------------+\n",
      "|  2 | P10             |          2970728 |\n",
      "+----+-----------------+------------------+\n",
      "|  3 | R50             |          2866643 |\n",
      "+----+-----------------+------------------+\n",
      "|  4 | V521            |          3085555 |\n",
      "+----+-----------------+------------------+\n"
     ]
    }
   ],
   "source": [
    "# Make the dataframe more nice looking with grids, using tabulate module\n",
    "\n",
    "print(tabulate(df,headers='keys',tablefmt='grid'))"
   ]
  },
  {
   "cell_type": "code",
   "execution_count": 68,
   "metadata": {},
   "outputs": [
    {
     "name": "stdout",
     "output_type": "stream",
     "text": [
      "+---+---------------+----------------+\n",
      "|   | sequenceNames | sequenceLength |\n",
      "+---+---------------+----------------+\n",
      "| 0 |     AR465     |    2911287     |\n",
      "| 1 |      M48      |    3050015     |\n",
      "| 2 |      P10      |    2970728     |\n",
      "| 3 |      R50      |    2866643     |\n",
      "| 4 |     V521      |    3085555     |\n",
      "+---+---------------+----------------+\n"
     ]
    }
   ],
   "source": [
    "# You can also make it pretty\n",
    "\n",
    "print(tabulate(df,headers='keys',tablefmt='pretty'))"
   ]
  },
  {
   "cell_type": "code",
   "execution_count": 70,
   "metadata": {},
   "outputs": [
    {
     "name": "stdout",
     "output_type": "stream",
     "text": [
      "╒════╤═════════════════╤══════════════════╕\n",
      "│    │ sequenceNames   │   sequenceLength │\n",
      "╞════╪═════════════════╪══════════════════╡\n",
      "│  0 │ AR465           │          2911287 │\n",
      "├────┼─────────────────┼──────────────────┤\n",
      "│  1 │ M48             │          3050015 │\n",
      "├────┼─────────────────┼──────────────────┤\n",
      "│  2 │ P10             │          2970728 │\n",
      "├────┼─────────────────┼──────────────────┤\n",
      "│  3 │ R50             │          2866643 │\n",
      "├────┼─────────────────┼──────────────────┤\n",
      "│  4 │ V521            │          3085555 │\n",
      "╘════╧═════════════════╧══════════════════╛\n"
     ]
    }
   ],
   "source": [
    "# You can Make it even more fancy\n",
    "\n",
    "print(tabulate(df,headers='keys',tablefmt='fancy_grid'))"
   ]
  },
  {
   "cell_type": "code",
   "execution_count": 49,
   "metadata": {},
   "outputs": [
    {
     "data": {
      "text/plain": [
       "sequenceNames       AR465\n",
       "sequenceLength    2911287\n",
       "Name: 0, dtype: object"
      ]
     },
     "execution_count": 49,
     "metadata": {},
     "output_type": "execute_result"
    }
   ],
   "source": [
    "#Locate a row in dataframe\n",
    "df.loc[0]"
   ]
  },
  {
   "cell_type": "code",
   "execution_count": 50,
   "metadata": {},
   "outputs": [
    {
     "data": {
      "text/plain": [
       "'AR465'"
      ]
     },
     "execution_count": 50,
     "metadata": {},
     "output_type": "execute_result"
    }
   ],
   "source": [
    "# Extract specific item in a dataframe\n",
    "\n",
    "df.loc[0,'sequenceNames']"
   ]
  },
  {
   "cell_type": "code",
   "execution_count": 51,
   "metadata": {},
   "outputs": [
    {
     "data": {
      "text/plain": [
       "2866643"
      ]
     },
     "execution_count": 51,
     "metadata": {},
     "output_type": "execute_result"
    }
   ],
   "source": [
    "df.loc[3,'sequenceLength']"
   ]
  },
  {
   "cell_type": "code",
   "execution_count": 54,
   "metadata": {},
   "outputs": [
    {
     "data": {
      "text/html": [
       "<div>\n",
       "<style scoped>\n",
       "    .dataframe tbody tr th:only-of-type {\n",
       "        vertical-align: middle;\n",
       "    }\n",
       "\n",
       "    .dataframe tbody tr th {\n",
       "        vertical-align: top;\n",
       "    }\n",
       "\n",
       "    .dataframe thead th {\n",
       "        text-align: right;\n",
       "    }\n",
       "</style>\n",
       "<table border=\"1\" class=\"dataframe\">\n",
       "  <thead>\n",
       "    <tr style=\"text-align: right;\">\n",
       "      <th></th>\n",
       "      <th>sequenceNames</th>\n",
       "      <th>sequenceLength</th>\n",
       "    </tr>\n",
       "  </thead>\n",
       "  <tbody>\n",
       "    <tr>\n",
       "      <th>1</th>\n",
       "      <td>M48</td>\n",
       "      <td>3050015</td>\n",
       "    </tr>\n",
       "    <tr>\n",
       "      <th>2</th>\n",
       "      <td>P10</td>\n",
       "      <td>2970728</td>\n",
       "    </tr>\n",
       "    <tr>\n",
       "      <th>4</th>\n",
       "      <td>V521</td>\n",
       "      <td>3085555</td>\n",
       "    </tr>\n",
       "  </tbody>\n",
       "</table>\n",
       "</div>"
      ],
      "text/plain": [
       "  sequenceNames  sequenceLength\n",
       "1           M48         3050015\n",
       "2           P10         2970728\n",
       "4          V521         3085555"
      ]
     },
     "execution_count": 54,
     "metadata": {},
     "output_type": "execute_result"
    }
   ],
   "source": [
    "# You can also trim data in a dataframe\n",
    "\n",
    "df[df['sequenceLength']>=2970728]"
   ]
  },
  {
   "cell_type": "code",
   "execution_count": 53,
   "metadata": {},
   "outputs": [
    {
     "name": "stdout",
     "output_type": "stream",
     "text": [
      "╒════╤═════════════════╤══════════════════╕\n",
      "│    │ sequenceNames   │   sequenceLength │\n",
      "╞════╪═════════════════╪══════════════════╡\n",
      "│  1 │ M48             │          3050015 │\n",
      "├────┼─────────────────┼──────────────────┤\n",
      "│  2 │ P10             │          2970728 │\n",
      "├────┼─────────────────┼──────────────────┤\n",
      "│  4 │ V521            │          3085555 │\n",
      "╘════╧═════════════════╧══════════════════╛\n"
     ]
    }
   ],
   "source": [
    "#Tabulate the selected data\n",
    "\n",
    "print(tabulate((df[df['sequenceLength']>=2970728]),headers='keys',tablefmt='fancy_grid'))"
   ]
  },
  {
   "cell_type": "code",
   "execution_count": 64,
   "metadata": {},
   "outputs": [],
   "source": [
    "#Save df into a csv file with indexes\n",
    "\n",
    "df.to_csv('C:/Users/Walterrickman/Desktop/PYTHON/Kobina/lengthsIDX.csv')"
   ]
  },
  {
   "cell_type": "code",
   "execution_count": 65,
   "metadata": {},
   "outputs": [],
   "source": [
    "# Save df without indexes\n",
    "\n",
    "df.to_csv('C:/Users/Walterrickman/Desktop/PYTHON/Kobina/lengths.csv',index=False)"
   ]
  },
  {
   "cell_type": "code",
   "execution_count": null,
   "metadata": {},
   "outputs": [],
   "source": [
    "# You can now go for the next second tutorial for Biopython, Hopping you learnt something here"
   ]
  }
 ],
 "metadata": {
  "kernelspec": {
   "display_name": "Python 3",
   "language": "python",
   "name": "python3"
  },
  "language_info": {
   "codemirror_mode": {
    "name": "ipython",
    "version": 3
   },
   "file_extension": ".py",
   "mimetype": "text/x-python",
   "name": "python",
   "nbconvert_exporter": "python",
   "pygments_lexer": "ipython3",
   "version": "3.12.3"
  }
 },
 "nbformat": 4,
 "nbformat_minor": 2
}
