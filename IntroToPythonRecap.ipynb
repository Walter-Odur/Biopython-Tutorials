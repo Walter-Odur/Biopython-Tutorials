{
 "cells": [
  {
   "cell_type": "markdown",
   "metadata": {},
   "source": [
    "# Intro to Python (Recap Exercise)"
   ]
  },
  {
   "cell_type": "markdown",
   "metadata": {},
   "source": [
    "Consider the DNA sequence AGTTAGCTAGGAGGTTAGGGACC"
   ]
  },
  {
   "cell_type": "markdown",
   "metadata": {},
   "source": [
    "1. How many nucleotides are present?\n",
    "2. Calculate the percentage GC in the sequence\n",
    "3. How many purines are present?\n",
    "4. How many pyrimidines are present?\n",
    "5. Calculate the percentage of purines in the sequence\n",
    "6. Which nucleotide is in the 10th position?\n",
    "7. Write the sequences that are present in position 3 to 9\n",
    "8. Which command will you use to find which nucleotides are present from position 10-20\n",
    "9. Does the DNA sequence contain GGAGG?\n",
    "10. How many times does TTA occur in the sequence?\n",
    "11. At which index does the GTTA begin?\n",
    "12. Does the sequence contain the character Z?"
   ]
  },
  {
   "cell_type": "code",
   "execution_count": 21,
   "metadata": {},
   "outputs": [
    {
     "name": "stdout",
     "output_type": "stream",
     "text": [
      "There are 23 nucleotides\n",
      "PercentageGC is 52.17%\n",
      "PercentageGC is 52.17%\n",
      "There are 15 purines\n",
      "There are 8 pyrimidines\n",
      "percentage of purines is 65.22%\n",
      "The nucleotide at 10th position is: G\n",
      "position 3-9 contain sequence: TTAGCTA\n",
      "position 10-20 contains nucleotides: GGAGGTTAGGG\n",
      "Yes, the DNA sequence contains GGAGG\n",
      "TTA occur 2 Times\n",
      "GTTA begins at index: 1\n",
      "No, The sequence doesn't have the character Z\n"
     ]
    }
   ],
   "source": [
    "#SOLUTIONS\n",
    "#1\n",
    "seq = 'AGTTAGCTAGGAGGTTAGGGACC'\n",
    "print('There are '+str(len(seq)) +' nucleotides')\n",
    "\n",
    "#2\n",
    "percentageGC = ((seq.count('G') + seq.count('C'))/len(seq)) *100\n",
    "print('PercentageGC is %0.2f%%' %percentageGC)\n",
    "# OR\n",
    "print(f'PercentageGC is {percentageGC:0.2f}%')\n",
    "\n",
    "#3\n",
    "pur=seq.count('G') + seq.count('A')\n",
    "print('There are '+str(pur)+' purines')\n",
    "\n",
    "#4\n",
    "pyr=seq.count('C') + seq.count('T')\n",
    "print('There are '+str(pyr)+' pyrimidines')\n",
    "\n",
    "#5\n",
    "per_purines=((pur/len(seq))*100)\n",
    "print(f'percentage of purines is {per_purines:.2f}%')\n",
    "\n",
    "#6\n",
    "print('The nucleotide at 10th position is: ' + str(seq[9]))\n",
    "\n",
    "#7\n",
    "print('position 3-9 contain sequence: '+str(seq[2:9]))\n",
    "\n",
    "#8\n",
    "print('position 10-20 contains nucleotides: '+str(seq[9:20]))\n",
    "\n",
    "#9\n",
    "if 'GGAGG' in seq:\n",
    "    print('Yes, the DNA sequence contains GGAGG')\n",
    "else:\n",
    "    print('No, the DNA sequence does not contain GGAGG')\n",
    "\n",
    "#10\n",
    "print('TTA occur '+str(seq.count('TTA')) +' Times')\n",
    "\n",
    "#11\n",
    "print('GTTA begins at index: '+ str(seq.find('GTTA')))\n",
    "\n",
    "#12\n",
    "if 'Z' in seq:\n",
    "    print('Yes, the sequence contains the character Z')\n",
    "else:\n",
    "    print(\"No, The sequence doesn't have the character Z\")"
   ]
  }
 ],
 "metadata": {
  "kernelspec": {
   "display_name": "Python 3",
   "language": "python",
   "name": "python3"
  },
  "language_info": {
   "codemirror_mode": {
    "name": "ipython",
    "version": 3
   },
   "file_extension": ".py",
   "mimetype": "text/x-python",
   "name": "python",
   "nbconvert_exporter": "python",
   "pygments_lexer": "ipython3",
   "version": "3.12.3"
  }
 },
 "nbformat": 4,
 "nbformat_minor": 2
}
